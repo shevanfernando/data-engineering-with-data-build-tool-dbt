{
 "cells": [
  {
   "metadata": {},
   "cell_type": "markdown",
   "source": "Import Required Packages"
  },
  {
   "metadata": {
    "ExecuteTime": {
     "end_time": "2024-09-29T13:32:26.723321Z",
     "start_time": "2024-09-29T13:32:25.959426Z"
    }
   },
   "cell_type": "code",
   "source": [
    "import duckdb\n",
    "import pandas as pd"
   ],
   "outputs": [],
   "execution_count": 1
  },
  {
   "metadata": {},
   "cell_type": "markdown",
   "source": "Check available tables"
  },
  {
   "cell_type": "code",
   "metadata": {
    "ExecuteTime": {
     "end_time": "2024-09-29T13:33:02.885596Z",
     "start_time": "2024-09-29T13:33:02.814529Z"
    }
   },
   "source": [
    "sql_query = '''\n",
    "show tables\n",
    "'''\n",
    "\n",
    "with duckdb.connect('data/nyc_parking_violations.db') as con:\n",
    "    display(con.sql(sql_query).df())"
   ],
   "outputs": [
    {
     "data": {
      "text/plain": [
       "                              name\n",
       "0   bronze_parking_violation_codes\n",
       "1        bronze_parking_violations\n",
       "2                      first_model\n",
       "3              gold_ticket_metrics\n",
       "4            gold_vehicles_metrics\n",
       "5          parking_violation_codes\n",
       "6          parking_violations_2023\n",
       "7                        ref_model\n",
       "8   silver_parking_violation_codes\n",
       "9        silver_parking_violations\n",
       "10        silver_violation_tickets\n",
       "11       silver_violation_vehicles"
      ],
      "text/html": [
       "<div>\n",
       "<style scoped>\n",
       "    .dataframe tbody tr th:only-of-type {\n",
       "        vertical-align: middle;\n",
       "    }\n",
       "\n",
       "    .dataframe tbody tr th {\n",
       "        vertical-align: top;\n",
       "    }\n",
       "\n",
       "    .dataframe thead th {\n",
       "        text-align: right;\n",
       "    }\n",
       "</style>\n",
       "<table border=\"1\" class=\"dataframe\">\n",
       "  <thead>\n",
       "    <tr style=\"text-align: right;\">\n",
       "      <th></th>\n",
       "      <th>name</th>\n",
       "    </tr>\n",
       "  </thead>\n",
       "  <tbody>\n",
       "    <tr>\n",
       "      <th>0</th>\n",
       "      <td>bronze_parking_violation_codes</td>\n",
       "    </tr>\n",
       "    <tr>\n",
       "      <th>1</th>\n",
       "      <td>bronze_parking_violations</td>\n",
       "    </tr>\n",
       "    <tr>\n",
       "      <th>2</th>\n",
       "      <td>first_model</td>\n",
       "    </tr>\n",
       "    <tr>\n",
       "      <th>3</th>\n",
       "      <td>gold_ticket_metrics</td>\n",
       "    </tr>\n",
       "    <tr>\n",
       "      <th>4</th>\n",
       "      <td>gold_vehicles_metrics</td>\n",
       "    </tr>\n",
       "    <tr>\n",
       "      <th>5</th>\n",
       "      <td>parking_violation_codes</td>\n",
       "    </tr>\n",
       "    <tr>\n",
       "      <th>6</th>\n",
       "      <td>parking_violations_2023</td>\n",
       "    </tr>\n",
       "    <tr>\n",
       "      <th>7</th>\n",
       "      <td>ref_model</td>\n",
       "    </tr>\n",
       "    <tr>\n",
       "      <th>8</th>\n",
       "      <td>silver_parking_violation_codes</td>\n",
       "    </tr>\n",
       "    <tr>\n",
       "      <th>9</th>\n",
       "      <td>silver_parking_violations</td>\n",
       "    </tr>\n",
       "    <tr>\n",
       "      <th>10</th>\n",
       "      <td>silver_violation_tickets</td>\n",
       "    </tr>\n",
       "    <tr>\n",
       "      <th>11</th>\n",
       "      <td>silver_violation_vehicles</td>\n",
       "    </tr>\n",
       "  </tbody>\n",
       "</table>\n",
       "</div>"
      ]
     },
     "metadata": {},
     "output_type": "display_data"
    }
   ],
   "execution_count": 2
  },
  {
   "metadata": {},
   "cell_type": "markdown",
   "source": "Create tables"
  },
  {
   "metadata": {
    "ExecuteTime": {
     "end_time": "2024-09-29T06:58:47.456524Z",
     "start_time": "2024-09-29T06:58:46.614938Z"
    }
   },
   "cell_type": "code",
   "source": [
    "sql_query_import_data_1 = '''\n",
    "CREATE OR REPLACE TABLE parking_violation_codes AS\n",
    "SELECT * FROM read_csv_auto(\n",
    "    'data/dof_parking_violation_codes.csv',\n",
    "     normalize_names=True\n",
    ");\n",
    "'''\n",
    "\n",
    "sql_query_import_data_2 = '''\n",
    "CREATE OR REPLACE TABLE parking_violations_2023 AS\n",
    "SELECT * FROM read_csv_auto(\n",
    "    'data/parking_violations_issued_fiscal_year_2023_sample.csv',\n",
    "     normalize_names=True\n",
    ");\n",
    "'''\n",
    "\n",
    "with duckdb.connect('data/nyc_parking_violations.db') as con:\n",
    "    con.sql(sql_query_import_data_1)\n",
    "    con.sql(sql_query_import_data_2)"
   ],
   "outputs": [],
   "execution_count": 4
  },
  {
   "metadata": {},
   "cell_type": "markdown",
   "source": "Check the tables are created"
  },
  {
   "metadata": {
    "ExecuteTime": {
     "end_time": "2024-09-29T06:58:47.537749Z",
     "start_time": "2024-09-29T06:58:47.473002Z"
    }
   },
   "cell_type": "code",
   "source": [
    "sql_query = '''\n",
    "show tables\n",
    "'''\n",
    "\n",
    "with duckdb.connect('data/nyc_parking_violations.db') as con:\n",
    "    display(con.sql(sql_query).df())"
   ],
   "outputs": [
    {
     "data": {
      "text/plain": [
       "                      name\n",
       "0              first_model\n",
       "1  parking_violation_codes\n",
       "2  parking_violations_2023\n",
       "3                ref_model"
      ],
      "text/html": [
       "<div>\n",
       "<style scoped>\n",
       "    .dataframe tbody tr th:only-of-type {\n",
       "        vertical-align: middle;\n",
       "    }\n",
       "\n",
       "    .dataframe tbody tr th {\n",
       "        vertical-align: top;\n",
       "    }\n",
       "\n",
       "    .dataframe thead th {\n",
       "        text-align: right;\n",
       "    }\n",
       "</style>\n",
       "<table border=\"1\" class=\"dataframe\">\n",
       "  <thead>\n",
       "    <tr style=\"text-align: right;\">\n",
       "      <th></th>\n",
       "      <th>name</th>\n",
       "    </tr>\n",
       "  </thead>\n",
       "  <tbody>\n",
       "    <tr>\n",
       "      <th>0</th>\n",
       "      <td>first_model</td>\n",
       "    </tr>\n",
       "    <tr>\n",
       "      <th>1</th>\n",
       "      <td>parking_violation_codes</td>\n",
       "    </tr>\n",
       "    <tr>\n",
       "      <th>2</th>\n",
       "      <td>parking_violations_2023</td>\n",
       "    </tr>\n",
       "    <tr>\n",
       "      <th>3</th>\n",
       "      <td>ref_model</td>\n",
       "    </tr>\n",
       "  </tbody>\n",
       "</table>\n",
       "</div>"
      ]
     },
     "metadata": {},
     "output_type": "display_data"
    }
   ],
   "execution_count": 5
  },
  {
   "metadata": {},
   "cell_type": "markdown",
   "source": "Print first 5 rows in the parking_violation_codes & parking_violations_2023 "
  },
  {
   "metadata": {
    "ExecuteTime": {
     "end_time": "2024-09-29T06:58:47.596897Z",
     "start_time": "2024-09-29T06:58:47.561143Z"
    }
   },
   "cell_type": "code",
   "source": [
    "with duckdb.connect('data/nyc_parking_violations.db') as con:\n",
    "    display(con.sql('''SELECT * FROM parking_violation_codes LIMIT 5;'''))\n",
    "    display(con.sql('''SELECT * FROM parking_violations_2023 LIMIT 5;'''))"
   ],
   "outputs": [
    {
     "data": {
      "text/plain": [
       "┌───────┬────────────────────────────────┬─────────────────────────┬─────────────────┐\n",
       "│ code  │           definition           │ manhattan_96th_st_below │ all_other_areas │\n",
       "│ int64 │            varchar             │          int64          │      int64      │\n",
       "├───────┼────────────────────────────────┼─────────────────────────┼─────────────────┤\n",
       "│     1 │ FAILURE TO DISPLAY BUS PERMIT  │                     515 │             515 │\n",
       "│     2 │ NO OPERATOR NAM/ADD/PH DISPLAY │                     515 │             515 │\n",
       "│     3 │ UNAUTHORIZED PASSENGER PICK-UP │                     515 │             515 │\n",
       "│     4 │ BUS PARKING IN LOWER MANHATTAN │                     115 │             115 │\n",
       "│     5 │ BUS LANE VIOLATION             │                     250 │             250 │\n",
       "└───────┴────────────────────────────────┴─────────────────────────┴─────────────────┘"
      ]
     },
     "metadata": {},
     "output_type": "display_data"
    },
    {
     "data": {
      "text/plain": [
       "┌────────────────┬────────────────────┬────────────┬───┬───────────────────┬──────────────────────┐\n",
       "│ summons_number │ registration_state │ plate_type │ … │ hydrant_violation │ double_parking_vio…  │\n",
       "│     int64      │      varchar       │  varchar   │   │      varchar      │       varchar        │\n",
       "├────────────────┼────────────────────┼────────────┼───┼───────────────────┼──────────────────────┤\n",
       "│     9010912681 │ CA                 │ PAS        │ … │ NULL              │ NULL                 │\n",
       "│     4858762841 │ NY                 │ PAS        │ … │ NULL              │ NULL                 │\n",
       "│     4854645684 │ FL                 │ PAS        │ … │ NULL              │ NULL                 │\n",
       "│     9044582707 │ NY                 │ PAS        │ … │ NULL              │ NULL                 │\n",
       "│     9041503330 │ NY                 │ PAS        │ … │ NULL              │ NULL                 │\n",
       "├────────────────┴────────────────────┴────────────┴───┴───────────────────┴──────────────────────┤\n",
       "│ 5 rows                                                                     34 columns (5 shown) │\n",
       "└─────────────────────────────────────────────────────────────────────────────────────────────────┘"
      ]
     },
     "metadata": {},
     "output_type": "display_data"
    }
   ],
   "execution_count": 6
  },
  {
   "metadata": {
    "ExecuteTime": {
     "end_time": "2024-09-29T06:58:47.961672Z",
     "start_time": "2024-09-29T06:58:47.892613Z"
    }
   },
   "cell_type": "code",
   "source": [
    "sql_query = '''\n",
    "show tables\n",
    "'''\n",
    "\n",
    "with duckdb.connect('data/nyc_parking_violations.db') as con:\n",
    "    display(con.sql(sql_query).df())"
   ],
   "outputs": [
    {
     "data": {
      "text/plain": [
       "                      name\n",
       "0              first_model\n",
       "1  parking_violation_codes\n",
       "2  parking_violations_2023\n",
       "3                ref_model"
      ],
      "text/html": [
       "<div>\n",
       "<style scoped>\n",
       "    .dataframe tbody tr th:only-of-type {\n",
       "        vertical-align: middle;\n",
       "    }\n",
       "\n",
       "    .dataframe tbody tr th {\n",
       "        vertical-align: top;\n",
       "    }\n",
       "\n",
       "    .dataframe thead th {\n",
       "        text-align: right;\n",
       "    }\n",
       "</style>\n",
       "<table border=\"1\" class=\"dataframe\">\n",
       "  <thead>\n",
       "    <tr style=\"text-align: right;\">\n",
       "      <th></th>\n",
       "      <th>name</th>\n",
       "    </tr>\n",
       "  </thead>\n",
       "  <tbody>\n",
       "    <tr>\n",
       "      <th>0</th>\n",
       "      <td>first_model</td>\n",
       "    </tr>\n",
       "    <tr>\n",
       "      <th>1</th>\n",
       "      <td>parking_violation_codes</td>\n",
       "    </tr>\n",
       "    <tr>\n",
       "      <th>2</th>\n",
       "      <td>parking_violations_2023</td>\n",
       "    </tr>\n",
       "    <tr>\n",
       "      <th>3</th>\n",
       "      <td>ref_model</td>\n",
       "    </tr>\n",
       "  </tbody>\n",
       "</table>\n",
       "</div>"
      ]
     },
     "metadata": {},
     "output_type": "display_data"
    }
   ],
   "execution_count": 7
  },
  {
   "metadata": {
    "ExecuteTime": {
     "end_time": "2024-09-29T06:58:48.018514Z",
     "start_time": "2024-09-29T06:58:47.992490Z"
    }
   },
   "cell_type": "code",
   "source": [
    "with duckdb.connect('data/nyc_parking_violations.db') as con:\n",
    "    display(con.sql('''SELECT * FROM parking_violations_2023 LIMIT 5;''').df().columns.tolist())"
   ],
   "outputs": [
    {
     "data": {
      "text/plain": [
       "['summons_number',\n",
       " 'registration_state',\n",
       " 'plate_type',\n",
       " 'issue_date',\n",
       " 'violation_code',\n",
       " 'vehicle_body_type',\n",
       " 'vehicle_make',\n",
       " 'issuing_agency',\n",
       " 'vehicle_expiration_date',\n",
       " 'violation_location',\n",
       " 'violation_precinct',\n",
       " 'issuer_precinct',\n",
       " 'issuer_code',\n",
       " 'issuer_command',\n",
       " 'issuer_squad',\n",
       " 'violation_time',\n",
       " 'time_first_observed',\n",
       " 'violation_county',\n",
       " 'violation_in_front_of_or_opposite',\n",
       " 'date_first_observed',\n",
       " 'law_section',\n",
       " 'sub_division',\n",
       " 'violation_legal_code',\n",
       " 'days_parking_in_effect',\n",
       " 'from_hours_in_effect',\n",
       " 'to_hours_in_effect',\n",
       " 'vehicle_color',\n",
       " 'unregistered_vehicle',\n",
       " 'vehicle_year',\n",
       " 'meter_number',\n",
       " 'feet_from_curb',\n",
       " 'no_standing_or_stopping_violation',\n",
       " 'hydrant_violation',\n",
       " 'double_parking_violation']"
      ]
     },
     "metadata": {},
     "output_type": "display_data"
    }
   ],
   "execution_count": 8
  },
  {
   "metadata": {
    "ExecuteTime": {
     "end_time": "2024-09-29T07:03:12.453476Z",
     "start_time": "2024-09-29T07:03:12.367510Z"
    }
   },
   "cell_type": "code",
   "source": [
    "with duckdb.connect('data/nyc_parking_violations.db') as con:\n",
    "    display(con.sql('''SELECT * FROM bronze_parking_violations LIMIT 5;''').df())"
   ],
   "outputs": [
    {
     "data": {
      "text/plain": [
       "   summons_number registration_state plate_type issue_date  violation_code  \\\n",
       "0      9010912681                 CA        PAS 2022-10-11              17   \n",
       "1      4858762841                 NY        PAS 2023-08-21              36   \n",
       "2      4854645684                 FL        PAS 2023-07-26              36   \n",
       "3      9044582707                 NY        PAS 2023-04-10              21   \n",
       "4      9041503330                 NY        PAS 2023-03-21              21   \n",
       "\n",
       "  vehicle_body_type vehicle_make issuing_agency  vehicle_expiration_date  \\\n",
       "0              SUBN         FORD              T                 20220788   \n",
       "1              4DSD        HONDA              V                        0   \n",
       "2                UT          BMW              V                        0   \n",
       "3              SUBN        SUBAR              T                 20231217   \n",
       "4              4DSD        CHEVR              T                 20250320   \n",
       "\n",
       "   violation_location  violation_precinct  issuer_precinct  issuer_code  \\\n",
       "0                50.0                  50               50       365910   \n",
       "1                 NaN                   0                0            0   \n",
       "2                 NaN                   0                0            0   \n",
       "3                79.0                  79               79       370326   \n",
       "4                26.0                  26               26       373097   \n",
       "\n",
       "  issuer_command issuer_squad violation_time violation_county  \\\n",
       "0           T201            D          0825A               BX   \n",
       "1           None         None          1036A               BK   \n",
       "2           None         None          0126P               QN   \n",
       "3           T301            H          0924A                K   \n",
       "4           T103            C          1155A               NY   \n",
       "\n",
       "  violation_legal_code vehicle_color  vehicle_year  \n",
       "0                  NaN         BLACK             0  \n",
       "1                 True            GY          2003  \n",
       "2                 True           WHI          2022  \n",
       "3                  NaN            GY          2017  \n",
       "4                  NaN            BK          2018  "
      ],
      "text/html": [
       "<div>\n",
       "<style scoped>\n",
       "    .dataframe tbody tr th:only-of-type {\n",
       "        vertical-align: middle;\n",
       "    }\n",
       "\n",
       "    .dataframe tbody tr th {\n",
       "        vertical-align: top;\n",
       "    }\n",
       "\n",
       "    .dataframe thead th {\n",
       "        text-align: right;\n",
       "    }\n",
       "</style>\n",
       "<table border=\"1\" class=\"dataframe\">\n",
       "  <thead>\n",
       "    <tr style=\"text-align: right;\">\n",
       "      <th></th>\n",
       "      <th>summons_number</th>\n",
       "      <th>registration_state</th>\n",
       "      <th>plate_type</th>\n",
       "      <th>issue_date</th>\n",
       "      <th>violation_code</th>\n",
       "      <th>vehicle_body_type</th>\n",
       "      <th>vehicle_make</th>\n",
       "      <th>issuing_agency</th>\n",
       "      <th>vehicle_expiration_date</th>\n",
       "      <th>violation_location</th>\n",
       "      <th>violation_precinct</th>\n",
       "      <th>issuer_precinct</th>\n",
       "      <th>issuer_code</th>\n",
       "      <th>issuer_command</th>\n",
       "      <th>issuer_squad</th>\n",
       "      <th>violation_time</th>\n",
       "      <th>violation_county</th>\n",
       "      <th>violation_legal_code</th>\n",
       "      <th>vehicle_color</th>\n",
       "      <th>vehicle_year</th>\n",
       "    </tr>\n",
       "  </thead>\n",
       "  <tbody>\n",
       "    <tr>\n",
       "      <th>0</th>\n",
       "      <td>9010912681</td>\n",
       "      <td>CA</td>\n",
       "      <td>PAS</td>\n",
       "      <td>2022-10-11</td>\n",
       "      <td>17</td>\n",
       "      <td>SUBN</td>\n",
       "      <td>FORD</td>\n",
       "      <td>T</td>\n",
       "      <td>20220788</td>\n",
       "      <td>50.0</td>\n",
       "      <td>50</td>\n",
       "      <td>50</td>\n",
       "      <td>365910</td>\n",
       "      <td>T201</td>\n",
       "      <td>D</td>\n",
       "      <td>0825A</td>\n",
       "      <td>BX</td>\n",
       "      <td>NaN</td>\n",
       "      <td>BLACK</td>\n",
       "      <td>0</td>\n",
       "    </tr>\n",
       "    <tr>\n",
       "      <th>1</th>\n",
       "      <td>4858762841</td>\n",
       "      <td>NY</td>\n",
       "      <td>PAS</td>\n",
       "      <td>2023-08-21</td>\n",
       "      <td>36</td>\n",
       "      <td>4DSD</td>\n",
       "      <td>HONDA</td>\n",
       "      <td>V</td>\n",
       "      <td>0</td>\n",
       "      <td>NaN</td>\n",
       "      <td>0</td>\n",
       "      <td>0</td>\n",
       "      <td>0</td>\n",
       "      <td>None</td>\n",
       "      <td>None</td>\n",
       "      <td>1036A</td>\n",
       "      <td>BK</td>\n",
       "      <td>True</td>\n",
       "      <td>GY</td>\n",
       "      <td>2003</td>\n",
       "    </tr>\n",
       "    <tr>\n",
       "      <th>2</th>\n",
       "      <td>4854645684</td>\n",
       "      <td>FL</td>\n",
       "      <td>PAS</td>\n",
       "      <td>2023-07-26</td>\n",
       "      <td>36</td>\n",
       "      <td>UT</td>\n",
       "      <td>BMW</td>\n",
       "      <td>V</td>\n",
       "      <td>0</td>\n",
       "      <td>NaN</td>\n",
       "      <td>0</td>\n",
       "      <td>0</td>\n",
       "      <td>0</td>\n",
       "      <td>None</td>\n",
       "      <td>None</td>\n",
       "      <td>0126P</td>\n",
       "      <td>QN</td>\n",
       "      <td>True</td>\n",
       "      <td>WHI</td>\n",
       "      <td>2022</td>\n",
       "    </tr>\n",
       "    <tr>\n",
       "      <th>3</th>\n",
       "      <td>9044582707</td>\n",
       "      <td>NY</td>\n",
       "      <td>PAS</td>\n",
       "      <td>2023-04-10</td>\n",
       "      <td>21</td>\n",
       "      <td>SUBN</td>\n",
       "      <td>SUBAR</td>\n",
       "      <td>T</td>\n",
       "      <td>20231217</td>\n",
       "      <td>79.0</td>\n",
       "      <td>79</td>\n",
       "      <td>79</td>\n",
       "      <td>370326</td>\n",
       "      <td>T301</td>\n",
       "      <td>H</td>\n",
       "      <td>0924A</td>\n",
       "      <td>K</td>\n",
       "      <td>NaN</td>\n",
       "      <td>GY</td>\n",
       "      <td>2017</td>\n",
       "    </tr>\n",
       "    <tr>\n",
       "      <th>4</th>\n",
       "      <td>9041503330</td>\n",
       "      <td>NY</td>\n",
       "      <td>PAS</td>\n",
       "      <td>2023-03-21</td>\n",
       "      <td>21</td>\n",
       "      <td>4DSD</td>\n",
       "      <td>CHEVR</td>\n",
       "      <td>T</td>\n",
       "      <td>20250320</td>\n",
       "      <td>26.0</td>\n",
       "      <td>26</td>\n",
       "      <td>26</td>\n",
       "      <td>373097</td>\n",
       "      <td>T103</td>\n",
       "      <td>C</td>\n",
       "      <td>1155A</td>\n",
       "      <td>NY</td>\n",
       "      <td>NaN</td>\n",
       "      <td>BK</td>\n",
       "      <td>2018</td>\n",
       "    </tr>\n",
       "  </tbody>\n",
       "</table>\n",
       "</div>"
      ]
     },
     "metadata": {},
     "output_type": "display_data"
    }
   ],
   "execution_count": 9
  },
  {
   "metadata": {
    "ExecuteTime": {
     "end_time": "2024-09-29T07:20:54.135896Z",
     "start_time": "2024-09-29T07:20:54.089234Z"
    }
   },
   "cell_type": "code",
   "source": [
    "with duckdb.connect('data/nyc_parking_violations.db') as con:\n",
    "    display(con.sql('''SELECT COUNT(*) AS COUNT FROM silver_parking_violation_codes;''').df())"
   ],
   "outputs": [
    {
     "data": {
      "text/plain": [
       "   COUNT\n",
       "0    194"
      ],
      "text/html": [
       "<div>\n",
       "<style scoped>\n",
       "    .dataframe tbody tr th:only-of-type {\n",
       "        vertical-align: middle;\n",
       "    }\n",
       "\n",
       "    .dataframe tbody tr th {\n",
       "        vertical-align: top;\n",
       "    }\n",
       "\n",
       "    .dataframe thead th {\n",
       "        text-align: right;\n",
       "    }\n",
       "</style>\n",
       "<table border=\"1\" class=\"dataframe\">\n",
       "  <thead>\n",
       "    <tr style=\"text-align: right;\">\n",
       "      <th></th>\n",
       "      <th>COUNT</th>\n",
       "    </tr>\n",
       "  </thead>\n",
       "  <tbody>\n",
       "    <tr>\n",
       "      <th>0</th>\n",
       "      <td>194</td>\n",
       "    </tr>\n",
       "  </tbody>\n",
       "</table>\n",
       "</div>"
      ]
     },
     "metadata": {},
     "output_type": "display_data"
    }
   ],
   "execution_count": 10
  },
  {
   "metadata": {
    "ExecuteTime": {
     "end_time": "2024-09-29T07:21:21.055330Z",
     "start_time": "2024-09-29T07:21:21.022960Z"
    }
   },
   "cell_type": "code",
   "source": [
    "with duckdb.connect('data/nyc_parking_violations.db') as con:\n",
    "    display(con.sql('''SELECT COUNT(*) AS COUNT FROM parking_violation_codes;''').df())"
   ],
   "outputs": [
    {
     "data": {
      "text/plain": [
       "   COUNT\n",
       "0     97"
      ],
      "text/html": [
       "<div>\n",
       "<style scoped>\n",
       "    .dataframe tbody tr th:only-of-type {\n",
       "        vertical-align: middle;\n",
       "    }\n",
       "\n",
       "    .dataframe tbody tr th {\n",
       "        vertical-align: top;\n",
       "    }\n",
       "\n",
       "    .dataframe thead th {\n",
       "        text-align: right;\n",
       "    }\n",
       "</style>\n",
       "<table border=\"1\" class=\"dataframe\">\n",
       "  <thead>\n",
       "    <tr style=\"text-align: right;\">\n",
       "      <th></th>\n",
       "      <th>COUNT</th>\n",
       "    </tr>\n",
       "  </thead>\n",
       "  <tbody>\n",
       "    <tr>\n",
       "      <th>0</th>\n",
       "      <td>97</td>\n",
       "    </tr>\n",
       "  </tbody>\n",
       "</table>\n",
       "</div>"
      ]
     },
     "metadata": {},
     "output_type": "display_data"
    }
   ],
   "execution_count": 11
  },
  {
   "metadata": {
    "ExecuteTime": {
     "end_time": "2024-09-29T13:39:18.360789Z",
     "start_time": "2024-09-29T13:39:17.565363Z"
    }
   },
   "cell_type": "code",
   "source": [
    "sql_query_import_data_1 = '''\n",
    "CREATE OR REPLACE TABLE parking_violation_codes AS\n",
    "SELECT * FROM read_csv_auto(\n",
    "    'data/dof_parking_violation_codes.csv',\n",
    "     normalize_names=True\n",
    ");\n",
    "'''\n",
    "\n",
    "sql_query_import_data_2 = '''\n",
    "CREATE OR REPLACE TABLE parking_violations_2023 AS\n",
    "SELECT * FROM read_csv_auto(\n",
    "    'data/parking_violations_issued_fiscal_year_2023_sample.csv',\n",
    "     normalize_names=True\n",
    ");\n",
    "'''\n",
    "\n",
    "with duckdb.connect('data/prod_nyc_parking_violations.db') as con:\n",
    "    con.sql(sql_query_import_data_1)\n",
    "    con.sql(sql_query_import_data_2)"
   ],
   "outputs": [],
   "execution_count": 4
  },
  {
   "metadata": {},
   "cell_type": "code",
   "outputs": [],
   "execution_count": null,
   "source": ""
  }
 ],
 "metadata": {
  "kernelspec": {
   "display_name": "Python 3",
   "language": "python",
   "name": "python3"
  },
  "language_info": {
   "name": "python",
   "version": "3.9.6 (default, May  7 2023, 23:32:44) \n[Clang 14.0.3 (clang-1403.0.22.14.1)]"
  },
  "orig_nbformat": 4,
  "vscode": {
   "interpreter": {
    "hash": "31f2aee4e71d21fbe5cf8b01ff0e069b9275f58929596ceb00d14d90e3e16cd6"
   }
  }
 },
 "nbformat": 4,
 "nbformat_minor": 2
}
